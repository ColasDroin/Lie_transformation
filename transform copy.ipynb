{
 "cells": [
  {
   "cell_type": "code",
   "execution_count": 1,
   "metadata": {},
   "outputs": [],
   "source": [
    "import sympy as sym\n",
    "from sympy import Array"
   ]
  },
  {
   "cell_type": "code",
   "execution_count": 2,
   "metadata": {},
   "outputs": [],
   "source": [
    "i, x, y, px, py = sym.symbols('i, x, y, p_x, p_y', real = True)\n",
    "delta = sym.symbols('\\delta', real = True)\n",
    "L = sym.symbols('L', real = True)\n",
    "\n",
    "X = Array([x,y])\n",
    "P = Array([px,py])\n",
    "\n"
   ]
  },
  {
   "cell_type": "code",
   "execution_count": 49,
   "metadata": {},
   "outputs": [
    {
     "name": "stdout",
     "output_type": "stream",
     "text": [
      "9*p_x**2*x**2 + 9*p_y**2*y**2\n"
     ]
    },
    {
     "data": {
      "text/latex": [
       "$\\displaystyle 0$"
      ],
      "text/plain": [
       "0"
      ]
     },
     "execution_count": 49,
     "metadata": {},
     "output_type": "execute_result"
    }
   ],
   "source": [
    "f = x ** 3 + y ** 3 + px **3 + py ** 3\n",
    "g = x ** 2 + y ** 2+ px **3 + py ** 3\n",
    "[f.diff(xi) * g.diff(pi)- f.diff(xi) * g.diff(pi) for xi, pi in zip(X, P)]\n",
    "print(sum([ f.diff(xi) * g.diff(pi) for xi,pi in zip(X,P)]))\n",
    "poisson_brackets(f, g, X, P)"
   ]
  },
  {
   "cell_type": "code",
   "execution_count": 50,
   "metadata": {},
   "outputs": [],
   "source": [
    "def poisson_brackets(f, g, X, P):\n",
    "    return sum([f.diff(xi) * g.diff(pi)- f.diff(pi) * g.diff(xi) for xi, pi in zip(X, P)])"
   ]
  },
  {
   "cell_type": "code",
   "execution_count": 51,
   "metadata": {},
   "outputs": [],
   "source": [
    "def poisson_brackets_old(f, g, x, px, y, py):\n",
    "    return (\n",
    "        f.diff(x) * g.diff(px)\n",
    "        - f.diff(px) * g.diff(x)\n",
    "        + f.diff(y) * g.diff(py)\n",
    "        - f.diff(py) * g.diff(y)\n",
    "    )\n",
    "\n",
    "def lie_transformation_old(f, g, x, px, y, py, order = 4):\n",
    "    # Special case for i = 0 as transform is always identity\n",
    "    transform = g\n",
    "    for i in range(1, order+1, 1):\n",
    "        transform += poisson_brackets_old(f, g, x, px, y, py)**i / sym.factorial(i)\n",
    "    return sym.simplify(transform)"
   ]
  },
  {
   "cell_type": "code",
   "execution_count": 52,
   "metadata": {},
   "outputs": [],
   "source": [
    "def lie_transformation(f, g, X, P, order = 4):\n",
    "    # Special case for i = 0 as transform is always identity\n",
    "    transform = g + sum([poisson_brackets(f, g, X, P)**i / sym.factorial(i) for i in range(1, order+1, 1)])\n",
    "    return sym.simplify(transform)\n",
    "\n",
    "def lie_transformation_hamiltonian_4D(X, P, H, L, order = 2):\n",
    "    x_new, y_new, px_new, py_new = [lie_transformation(-L*H, g, X, P, order) for g in X.tolist() + P.tolist()]\n",
    "    return x_new, px_new, y_new, py_new\n",
    "\n",
    "\n",
    "def lie_transformation_hamiltonian_4D_old(x, px, y, py, H, L, order = 2):\n",
    "    x_new = lie_transformation_old(-L*H, x, x, px, y, py, order)\n",
    "    px_new = lie_transformation_old(-L*H, px, x, px, y, py, order)\n",
    "    y_new = lie_transformation_old(-L*H, y, x, px, y, py, order)\n",
    "    py_new = lie_transformation_old(-L*H, py, x, px, y, py, order)\n",
    "    return x_new, px_new, y_new, py_new\n"
   ]
  },
  {
   "cell_type": "code",
   "execution_count": 53,
   "metadata": {},
   "outputs": [
    {
     "data": {
      "text/latex": [
       "$\\displaystyle - \\sqrt{- p_{x}^{2} - p_{y}^{2} + \\left(\\delta + 1\\right)^{2}}$"
      ],
      "text/plain": [
       "-sqrt(-p_x**2 - p_y**2 + (\\delta + 1)**2)"
      ]
     },
     "execution_count": 53,
     "metadata": {},
     "output_type": "execute_result"
    }
   ],
   "source": [
    "H = -sym.sqrt((1+delta)**2-px**2 - py**2)\n",
    "H"
   ]
  },
  {
   "cell_type": "code",
   "execution_count": 54,
   "metadata": {},
   "outputs": [
    {
     "name": "stdout",
     "output_type": "stream",
     "text": [
      "[L*p_x/sqrt(-p_x**2 - p_y**2 + (\\delta + 1)**2), L**2*p_x**2/(2*(-p_x**2 - p_y**2 + (\\delta + 1)**2))]\n",
      "[L*p_y/sqrt(-p_x**2 - p_y**2 + (\\delta + 1)**2), L**2*p_y**2/(2*(-p_x**2 - p_y**2 + (\\delta + 1)**2))]\n",
      "[0, 0]\n",
      "[0, 0]\n"
     ]
    }
   ],
   "source": [
    "x_new, px_new, y_new, py_new = lie_transformation_hamiltonian_4D(X, P, H, L, order = 2)\n"
   ]
  },
  {
   "cell_type": "code",
   "execution_count": 57,
   "metadata": {},
   "outputs": [
    {
     "data": {
      "text/latex": [
       "$\\displaystyle \\frac{\\frac{L^{2} p_{x}^{2} \\sqrt{- p_{x}^{2} - p_{y}^{2} + \\left(\\delta + 1\\right)^{2}}}{2} - L p_{x} \\left(p_{x}^{2} + p_{y}^{2} - \\left(\\delta + 1\\right)^{2}\\right) + x \\left(- p_{x}^{2} - p_{y}^{2} + \\left(\\delta + 1\\right)^{2}\\right)^{\\frac{3}{2}}}{\\left(- p_{x}^{2} - p_{y}^{2} + \\left(\\delta + 1\\right)^{2}\\right)^{\\frac{3}{2}}}$"
      ],
      "text/plain": [
       "(L**2*p_x**2*sqrt(-p_x**2 - p_y**2 + (\\delta + 1)**2)/2 - L*p_x*(p_x**2 + p_y**2 - (\\delta + 1)**2) + x*(-p_x**2 - p_y**2 + (\\delta + 1)**2)**(3/2))/(-p_x**2 - p_y**2 + (\\delta + 1)**2)**(3/2)"
      ]
     },
     "execution_count": 57,
     "metadata": {},
     "output_type": "execute_result"
    }
   ],
   "source": [
    "x_new"
   ]
  },
  {
   "cell_type": "code",
   "execution_count": 56,
   "metadata": {},
   "outputs": [
    {
     "name": "stdout",
     "output_type": "stream",
     "text": [
      "[x, y, p_x, p_y]\n"
     ]
    }
   ],
   "source": [
    "print([g for g in X.tolist() + P.tolist()])"
   ]
  },
  {
   "cell_type": "code",
   "execution_count": null,
   "metadata": {},
   "outputs": [],
   "source": []
  },
  {
   "cell_type": "code",
   "execution_count": null,
   "metadata": {},
   "outputs": [],
   "source": []
  }
 ],
 "metadata": {
  "kernelspec": {
   "display_name": "base",
   "language": "python",
   "name": "python3"
  },
  "language_info": {
   "codemirror_mode": {
    "name": "ipython",
    "version": 3
   },
   "file_extension": ".py",
   "mimetype": "text/x-python",
   "name": "python",
   "nbconvert_exporter": "python",
   "pygments_lexer": "ipython3",
   "version": "3.10.8"
  },
  "orig_nbformat": 4,
  "vscode": {
   "interpreter": {
    "hash": "258ed27130092d1611e438a5ae26a3133782840bad2ac649c8a295d1052b554d"
   }
  }
 },
 "nbformat": 4,
 "nbformat_minor": 2
}
