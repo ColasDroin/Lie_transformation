{
 "cells": [
  {
   "attachments": {},
   "cell_type": "markdown",
   "metadata": {},
   "source": [
    "## Lie transformations and symplectic integration"
   ]
  },
  {
   "attachments": {},
   "cell_type": "markdown",
   "metadata": {},
   "source": [
    "### Imports and setup"
   ]
  },
  {
   "cell_type": "code",
   "execution_count": null,
   "metadata": {},
   "outputs": [],
   "source": [
    "# Standard imports\n",
    "import sympy as sym\n",
    "import numpy as np\n",
    "import IPython\n",
    "\n",
    "# Import the lie_transformations module\n",
    "import lie_transformations as lt\n"
   ]
  },
  {
   "cell_type": "code",
   "execution_count": null,
   "metadata": {},
   "outputs": [],
   "source": [
    "# Define variables used as symbols\n",
    "i, x, y, px, py = sym.symbols(\"i, x, y, p_x, p_y\", real=True)\n",
    "delta = sym.symbols(\"\\delta\", real=True)\n",
    "L = sym.symbols(\"L\", real=True)\n",
    "X = sym.Array([x, y])\n",
    "P = sym.Array([px, py])\n"
   ]
  },
  {
   "attachments": {},
   "cell_type": "markdown",
   "metadata": {},
   "source": [
    "### Generate a map and check the expression"
   ]
  },
  {
   "cell_type": "code",
   "execution_count": null,
   "metadata": {},
   "outputs": [],
   "source": [
    "# Generate hamiltionian for a quadrupole\n",
    "H = lt.generate_hamiltonian(1, delta, X, P, approx=False)\n",
    "H\n"
   ]
  },
  {
   "cell_type": "code",
   "execution_count": null,
   "metadata": {},
   "outputs": [],
   "source": [
    "x_new, px_new, y_new, py_new = lt.lie_transformation_hamiltonian_4D(\n",
    "    X, P, H, L, order=3, verbose=True\n",
    ")\n",
    "x_new\n"
   ]
  },
  {
   "attachments": {},
   "cell_type": "markdown",
   "metadata": {},
   "source": [
    "### Generate and plot a particle distributions"
   ]
  },
  {
   "cell_type": "code",
   "execution_count": null,
   "metadata": {},
   "outputs": [],
   "source": [
    "# Generate a particle distribution and get corresponding parameters of the distribution\n",
    "std_x = 10**-3\n",
    "std_px = 5 * 10**-4\n",
    "max_std_x = np.max([std_x, std_px])\n",
    "array_x, array_px = lt.generate_particle_distribution(std_x, std_px)\n",
    "emittance_x, alpha_x, beta_x, gamma_x = lt.get_twiss_and_emittance(array_x, array_px)\n",
    "l_colors_x = lt.get_color_according_to_PCA_projection(array_x, array_px)\n",
    "\n",
    "# Same with y coordinate (used later)\n",
    "std_y = 10**-3\n",
    "std_py = 10**-4\n",
    "max_std_y = np.max([std_y, std_py])\n",
    "array_y, array_py = lt.generate_particle_distribution(std_y, std_py)\n",
    "emittance_y, alpha_y, beta_y, gamma_y = lt.get_twiss_and_emittance(array_y, array_py)\n",
    "l_colors_y = lt.get_color_according_to_PCA_projection(array_y, array_py)\n"
   ]
  },
  {
   "cell_type": "code",
   "execution_count": null,
   "metadata": {},
   "outputs": [],
   "source": [
    "lt.plot_distribution(\n",
    "    array_x,\n",
    "    array_px,\n",
    "    l_colors_x,\n",
    "    max_std_x,\n",
    "    label_x=r\"$x$\",\n",
    "    label_y=r\"$p_x$\",\n",
    "    title=\"Initial particle distribution\",\n",
    ")\n"
   ]
  },
  {
   "attachments": {},
   "cell_type": "markdown",
   "metadata": {},
   "source": [
    "### Simulate the transfer of a beam in a quadrupole with truncated Lie transform"
   ]
  },
  {
   "cell_type": "code",
   "execution_count": null,
   "metadata": {},
   "outputs": [],
   "source": [
    "# Plot the result as an interactive plot\n",
    "gif_path = \"gifs/1.gif\"\n",
    "box = lt.plot_interactive_distribution_quadrupole(\n",
    "    X, P,\n",
    "    array_x,\n",
    "    array_px,\n",
    "    l_colors_x,\n",
    "    max_std_x,\n",
    "    label_x=r\"$x$\",\n",
    "    label_y=r\"$p_x$\",\n",
    "    title=\"Particle distribution after going through quadrupole\",\n",
    "    max_order_lie_transform=6,\n",
    "    integrator=\"truncated_map\",\n",
    "    animation=True,\n",
    "    gif_path=gif_path,\n",
    ")\n",
    "#display(box)\n",
    "display(IPython.display.Image(data=open(gif_path,'rb').read(), format='gif'))\n"
   ]
  },
  {
   "attachments": {},
   "cell_type": "markdown",
   "metadata": {},
   "source": [
    "### Now try again with symplectic integration"
   ]
  },
  {
   "cell_type": "code",
   "execution_count": null,
   "metadata": {},
   "outputs": [],
   "source": [
    "# Plot the result as an interactive plot\n",
    "gif_path = \"gifs/2.gif\"\n",
    "box = lt.plot_interactive_distribution_quadrupole(\n",
    "    X,\n",
    "    P,\n",
    "    array_x,\n",
    "    array_px,\n",
    "    l_colors_x,\n",
    "    max_std_x,\n",
    "    label_x=r\"$x$\",\n",
    "    label_y=r\"$p_x$\",\n",
    "    title=\"Particle distribution after going through quadrupole\",\n",
    "    max_order_lie_transform=10,\n",
    "    order_symplectic_integrator=3,\n",
    "    integrator=\"symplectic_integrator\",\n",
    "    animation=False,\n",
    "    gif_path=gif_path,\n",
    ")\n",
    "# display(IPython.display.Image(data=open(gif_path,'rb').read(), format='gif'))\n",
    "display(box)\n"
   ]
  },
  {
   "attachments": {},
   "cell_type": "markdown",
   "metadata": {},
   "source": [
    "### Compare the phase space in x and y when going through a quadrupole, depending if symplectic integrator or not"
   ]
  },
  {
   "cell_type": "code",
   "execution_count": null,
   "metadata": {},
   "outputs": [],
   "source": [
    "# Plot the result as an interactive plot\n",
    "gif_path = \"gifs/3.gif\"\n",
    "box = lt.plot_interactive_distribution_x_y(\n",
    "    X,\n",
    "    P,\n",
    "    array_x,\n",
    "    array_px,\n",
    "    array_y,\n",
    "    array_py,\n",
    "    l_colors_x,\n",
    "    l_colors_y,\n",
    "    max_std_x,\n",
    "    max_std_y,\n",
    "    label_x_1=r\"$x$\",\n",
    "    label_y_1=r\"$p_x$\",\n",
    "    label_x_2=r\"$y$\",\n",
    "    label_y_2=r\"$p_y$\",\n",
    "    title=\"Particle distribution after going through quadrupole\",\n",
    "    max_order_lie_transform=4,\n",
    "    order_symplectic_integrator=3,\n",
    "    magnet_order=1,\n",
    "    exact_map_quadrupole=True,\n",
    "    animation=False,\n",
    "    gif_path=gif_path,\n",
    ")\n",
    "display(box)\n"
   ]
  },
  {
   "attachments": {},
   "cell_type": "markdown",
   "metadata": {},
   "source": [
    "### Check that total emittance is constant"
   ]
  },
  {
   "cell_type": "code",
   "execution_count": null,
   "metadata": {},
   "outputs": [],
   "source": [
    "(\n",
    "    l_emittance_x_truncated,\n",
    "    l_emittance_y_truncated,\n",
    "    l_emittance_x_symplectic,\n",
    "    l_emittance_y_symplectic,\n",
    "    l_emittance_x_exact,\n",
    "    l_emittance_y_exact,\n",
    "    l_strength,\n",
    ") = lt.check_emittance_conservation_quadrupole(\n",
    "    X,\n",
    "    P,\n",
    "    array_x,\n",
    "    array_px,\n",
    "    array_y,\n",
    "    array_py,\n",
    "    max_order_lie_transform=6,\n",
    "    order_symplectic_integrator=4,\n",
    ")\n",
    "\n",
    "lt.plot_emittance_conservation(\n",
    "    l_emittance_x_truncated,\n",
    "    l_emittance_y_truncated,\n",
    "    l_emittance_x_symplectic,\n",
    "    l_emittance_y_symplectic,\n",
    "    l_emittance_x_exact,\n",
    "    l_emittance_y_exact,\n",
    "    l_strength,\n",
    ")\n"
   ]
  },
  {
   "attachments": {},
   "cell_type": "markdown",
   "metadata": {},
   "source": [
    "### Same plot as before with a nonlinear magnet (sextupole)"
   ]
  },
  {
   "cell_type": "code",
   "execution_count": null,
   "metadata": {},
   "outputs": [],
   "source": [
    "# Plot the result as an interactive plot\n",
    "gif_path = \"gifs/4.gif\"\n",
    "box = lt.plot_interactive_distribution_x_y(\n",
    "    X, P,\n",
    "    array_x,\n",
    "    array_px,\n",
    "    array_y,\n",
    "    array_py,\n",
    "    l_colors_x,\n",
    "    l_colors_y,\n",
    "    max_std_x,\n",
    "    max_std_y,\n",
    "    label_x_1=r\"$x$\",\n",
    "    label_y_1=r\"$p_x$\",\n",
    "    label_x_2=r\"$y$\",\n",
    "    label_y_2=r\"$p_y$\",\n",
    "    title=\"Particle distribution after going through sextupole\",\n",
    "    max_order_lie_transform=6,\n",
    "    order_symplectic_integrator=4,\n",
    "    magnet_order = 2,\n",
    "    k_min = 0.01,\n",
    "    k_max = 1000.,\n",
    "    exact_map_quadrupole = False,\n",
    "    animation = False,\n",
    "    gif_path = gif_path,\n",
    "    duration = 5,\n",
    ")\n",
    "display(box)"
   ]
  },
  {
   "cell_type": "code",
   "execution_count": null,
   "metadata": {},
   "outputs": [],
   "source": []
  }
 ],
 "metadata": {
  "kernelspec": {
   "display_name": "base",
   "language": "python",
   "name": "python3"
  },
  "language_info": {
   "codemirror_mode": {
    "name": "ipython",
    "version": 3
   },
   "file_extension": ".py",
   "mimetype": "text/x-python",
   "name": "python",
   "nbconvert_exporter": "python",
   "pygments_lexer": "ipython3",
   "version": "3.10.8"
  },
  "orig_nbformat": 4,
  "vscode": {
   "interpreter": {
    "hash": "258ed27130092d1611e438a5ae26a3133782840bad2ac649c8a295d1052b554d"
   }
  }
 },
 "nbformat": 4,
 "nbformat_minor": 2
}
